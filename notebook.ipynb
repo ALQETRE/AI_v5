{
 "cells": [
  {
   "cell_type": "code",
   "execution_count": 2,
   "id": "e011e1a2",
   "metadata": {},
   "outputs": [],
   "source": [
    "import numpy as np"
   ]
  },
  {
   "cell_type": "code",
   "execution_count": 4,
   "id": "c0fec639",
   "metadata": {},
   "outputs": [],
   "source": [
    "m1 = np.array([[3, 4], [7, 2], [5, 9]])\n",
    "m2 = np.array([[3, 1, 5], [6, 9, 7]])"
   ]
  },
  {
   "cell_type": "code",
   "execution_count": 12,
   "id": "4d40c7c3",
   "metadata": {},
   "outputs": [
    {
     "data": {
      "text/plain": [
       "array([[33, 39, 43],\n",
       "       [33, 25, 49],\n",
       "       [69, 86, 88]])"
      ]
     },
     "execution_count": 12,
     "metadata": {},
     "output_type": "execute_result"
    }
   ],
   "source": [
    "m3 = m1.dot(m2)\n",
    "m3"
   ]
  },
  {
   "cell_type": "code",
   "execution_count": 13,
   "id": "ce1ed563",
   "metadata": {},
   "outputs": [
    {
     "data": {
      "text/plain": [
       "array([[33, 39, 43],\n",
       "       [33, 25, 49],\n",
       "       [69, 86, 88]])"
      ]
     },
     "execution_count": 13,
     "metadata": {},
     "output_type": "execute_result"
    }
   ],
   "source": [
    "np.dot(m1, m2)"
   ]
  },
  {
   "cell_type": "code",
   "execution_count": 14,
   "id": "fc39baa9",
   "metadata": {},
   "outputs": [
    {
     "data": {
      "text/plain": [
       "(3, 1)"
      ]
     },
     "execution_count": 14,
     "metadata": {},
     "output_type": "execute_result"
    }
   ],
   "source": [
    "b1 = np.array([[1], [2], [3]])\n",
    "m3 + b1\n",
    "b1.shape"
   ]
  },
  {
   "cell_type": "code",
   "execution_count": 16,
   "id": "2c667c8a",
   "metadata": {},
   "outputs": [
    {
     "data": {
      "text/plain": [
       "array([[1],\n",
       "       [2],\n",
       "       [3]])"
      ]
     },
     "execution_count": 16,
     "metadata": {},
     "output_type": "execute_result"
    }
   ],
   "source": [
    "b1"
   ]
  },
  {
   "cell_type": "code",
   "execution_count": 17,
   "id": "3de60366",
   "metadata": {},
   "outputs": [
    {
     "data": {
      "text/plain": [
       "array([[3, 4],\n",
       "       [7, 2],\n",
       "       [5, 9]])"
      ]
     },
     "execution_count": 17,
     "metadata": {},
     "output_type": "execute_result"
    }
   ],
   "source": [
    "m1"
   ]
  },
  {
   "cell_type": "code",
   "execution_count": 19,
   "id": "379658ab",
   "metadata": {},
   "outputs": [],
   "source": [
    "data = [m1, b1]\n",
    "np.savez(\"test.npz\", *data)"
   ]
  },
  {
   "cell_type": "code",
   "execution_count": 1,
   "id": "b6204347",
   "metadata": {},
   "outputs": [
    {
     "ename": "NameError",
     "evalue": "name 'np' is not defined",
     "output_type": "error",
     "traceback": [
      "\u001b[1;31m---------------------------------------------------------------------------\u001b[0m",
      "\u001b[1;31mNameError\u001b[0m                                 Traceback (most recent call last)",
      "Cell \u001b[1;32mIn[1], line 1\u001b[0m\n\u001b[1;32m----> 1\u001b[0m data \u001b[38;5;241m=\u001b[39m \u001b[43mnp\u001b[49m\u001b[38;5;241m.\u001b[39mload(\u001b[38;5;124m\"\u001b[39m\u001b[38;5;124mtest.npz\u001b[39m\u001b[38;5;124m\"\u001b[39m)\n\u001b[0;32m      2\u001b[0m \u001b[38;5;28;01mfor\u001b[39;00m key \u001b[38;5;129;01min\u001b[39;00m data\u001b[38;5;241m.\u001b[39mfiles:\n\u001b[0;32m      3\u001b[0m     \u001b[38;5;28mprint\u001b[39m(data[key])\n",
      "\u001b[1;31mNameError\u001b[0m: name 'np' is not defined"
     ]
    }
   ],
   "source": [
    "data = np.load(\"test.npz\")\n",
    "for key in data.files:\n",
    "    print(data[key])"
   ]
  },
  {
   "cell_type": "code",
   "execution_count": 1,
   "id": "628a3b7f",
   "metadata": {},
   "outputs": [
    {
     "ename": "NameError",
     "evalue": "name 'np' is not defined",
     "output_type": "error",
     "traceback": [
      "\u001b[1;31m---------------------------------------------------------------------------\u001b[0m",
      "\u001b[1;31mNameError\u001b[0m                                 Traceback (most recent call last)",
      "Cell \u001b[1;32mIn[1], line 1\u001b[0m\n\u001b[1;32m----> 1\u001b[0m \u001b[43mnp\u001b[49m\u001b[38;5;241m.\u001b[39mmean((np\u001b[38;5;241m.\u001b[39mrandom\u001b[38;5;241m.\u001b[39mrand(\u001b[38;5;241m1000\u001b[39m, \u001b[38;5;241m1000\u001b[39m)\u001b[38;5;241m-\u001b[39m\u001b[38;5;241m0.5\u001b[39m)\u001b[38;5;241m*\u001b[39m\u001b[38;5;241m0.0001\u001b[39m)\n",
      "\u001b[1;31mNameError\u001b[0m: name 'np' is not defined"
     ]
    }
   ],
   "source": [
    "np.mean((np.random.rand(1000, 1000)-0.5)*0.0001)"
   ]
  },
  {
   "cell_type": "code",
   "execution_count": 3,
   "id": "fd19600d",
   "metadata": {},
   "outputs": [
    {
     "name": "stdout",
     "output_type": "stream",
     "text": [
      "3\n"
     ]
    }
   ],
   "source": [
    "l = [1]*3\n",
    "print(sum(l))"
   ]
  }
 ],
 "metadata": {
  "kernelspec": {
   "display_name": "Python 3",
   "language": "python",
   "name": "python3"
  },
  "language_info": {
   "codemirror_mode": {
    "name": "ipython",
    "version": 3
   },
   "file_extension": ".py",
   "mimetype": "text/x-python",
   "name": "python",
   "nbconvert_exporter": "python",
   "pygments_lexer": "ipython3",
   "version": "3.11.4"
  }
 },
 "nbformat": 4,
 "nbformat_minor": 5
}
